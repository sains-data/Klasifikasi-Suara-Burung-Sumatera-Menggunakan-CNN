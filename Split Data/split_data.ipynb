{
  "nbformat": 4,
  "nbformat_minor": 0,
  "metadata": {
    "colab": {
      "provenance": []
    },
    "kernelspec": {
      "name": "python3",
      "display_name": "Python 3"
    },
    "language_info": {
      "name": "python"
    }
  },
  "cells": [
    {
      "cell_type": "code",
      "source": [
        "import os\n",
        "import librosa\n",
        "import numpy as np\n",
        "from random import sample\n",
        "\n",
        "# Mount Google Drive\n",
        "from google.colab import drive\n",
        "drive.mount('/content/drive')"
      ],
      "metadata": {
        "id": "9TfwndgV-VwA",
        "colab": {
          "base_uri": "https://localhost:8080/"
        },
        "outputId": "5bab8204-c282-49f7-c5d8-2e8770560968"
      },
      "execution_count": null,
      "outputs": [
        {
          "output_type": "stream",
          "name": "stdout",
          "text": [
            "Mounted at /content/drive\n"
          ]
        }
      ]
    },
    {
      "cell_type": "markdown",
      "source": [
        "# MFCC"
      ],
      "metadata": {
        "id": "NgmC6gfwdC_I"
      }
    },
    {
      "cell_type": "code",
      "source": [
        "import os\n",
        "import numpy as np\n",
        "import librosa\n",
        "import soundfile as sf\n",
        "import shutil\n",
        "from random import sample\n",
        "\n",
        "# Define number of files for all sets\n",
        "train_ratio = 0.65  # 65% of all sound should be in the train set\n",
        "val_ratio = 0.25    # 25% validation set\n",
        "test_ratio = 0.1    # 10% test set\n",
        "max_files_per_class = 65  # Maximum number of files per class\n",
        "\n",
        "basePath = '/content/drive/MyDrive/DL/data/'\n",
        "imPath = '/content/drive/MyDrive/DL/mfcc/'\n",
        "destPath = '/content/drive/MyDrive/DL/split_data/mfcc'\n",
        "\n",
        "birds = []\n",
        "singleBirdList = []\n",
        "allFilesList = []\n",
        "\n",
        "# Get the list of bird directories\n",
        "for root, dirs, files in os.walk(basePath):\n",
        "    if root == basePath:\n",
        "        birds = dirs\n",
        "print(birds)\n",
        "\n"
      ],
      "metadata": {
        "colab": {
          "base_uri": "https://localhost:8080/"
        },
        "id": "zM6KA9P3dM8O",
        "outputId": "8fb8a254-128d-4eac-8edc-02e1917403f4"
      },
      "execution_count": null,
      "outputs": [
        {
          "output_type": "stream",
          "name": "stdout",
          "text": [
            "['Pitta sordida', 'Dryocopus javensis', 'Caprimulgus macrurus', 'Pnoepyga pusilla', 'Anthipes solitaris', 'Buceros rhinoceros', 'Garulax bicolor']\n"
          ]
        }
      ]
    },
    {
      "cell_type": "code",
      "source": [
        "trainSet = []\n",
        "valSet = []\n",
        "testSet = []\n",
        "\n",
        "birdsShort = []  # list of short file names\n",
        "birdNumber = 0\n",
        "\n",
        "for nr, bird in enumerate(birds):\n",
        "    for root, dirs, files in os.walk(basePath + bird):\n",
        "        for file in files:\n",
        "            if file.endswith(\".wav\"):\n",
        "                singleBirdList.append(os.path.join(root, file))\n",
        "\n",
        "    # Limit to a maximum of 65 files per class\n",
        "    if len(singleBirdList) > max_files_per_class:\n",
        "        singleBirdList = sample(singleBirdList, max_files_per_class)\n",
        "\n",
        "    if len(singleBirdList) > 0:\n",
        "        birdsShort.append(str(birdNumber) + bird[:5])\n",
        "        birdNumber += 1\n",
        "        print(\"Found \", len(singleBirdList), ' wav files for ', bird)\n",
        "\n",
        "        # Calculate the number of files for each set\n",
        "        total_files = len(singleBirdList)\n",
        "        train_count = int(train_ratio * total_files)\n",
        "        val_count = int(val_ratio * total_files)\n",
        "        test_count = total_files - (train_count + val_count)  # Ensure all files are accounted for\n",
        "\n",
        "        trainSet.append(train_count)\n",
        "        valSet.append(val_count)\n",
        "        testSet.append(test_count)\n",
        "\n",
        "        print(\"Size of train: \", train_count, \", val: \", val_count, \", test: \", test_count)\n",
        "        allFilesList.append(singleBirdList)\n",
        "\n",
        "    singleBirdList = []\n",
        "\n",
        "print(trainSet)\n",
        "print(valSet)\n",
        "print(testSet)"
      ],
      "metadata": {
        "colab": {
          "base_uri": "https://localhost:8080/"
        },
        "id": "BVBJSyuzdWsQ",
        "outputId": "f08f7c2d-f9df-43d3-df45-2b1f09f2244a"
      },
      "execution_count": null,
      "outputs": [
        {
          "output_type": "stream",
          "name": "stdout",
          "text": [
            "Found  65  wav files for  Pitta sordida\n",
            "Size of train:  42 , val:  16 , test:  7\n",
            "Found  65  wav files for  Dryocopus javensis\n",
            "Size of train:  42 , val:  16 , test:  7\n",
            "Found  65  wav files for  Caprimulgus macrurus\n",
            "Size of train:  42 , val:  16 , test:  7\n",
            "Found  65  wav files for  Pnoepyga pusilla\n",
            "Size of train:  42 , val:  16 , test:  7\n",
            "Found  65  wav files for  Anthipes solitaris\n",
            "Size of train:  42 , val:  16 , test:  7\n",
            "Found  65  wav files for  Buceros rhinoceros\n",
            "Size of train:  42 , val:  16 , test:  7\n",
            "[42, 42, 42, 42, 42, 42]\n",
            "[16, 16, 16, 16, 16, 16]\n",
            "[7, 7, 7, 7, 7, 7]\n"
          ]
        }
      ]
    },
    {
      "cell_type": "code",
      "source": [
        "# Preprocessing function\n",
        "def preprocess_audio(file_path):\n",
        "    # Load audio file\n",
        "    audio, sr = librosa.load(file_path, sr=None)\n",
        "\n",
        "    # Normalize audio\n",
        "    audio = audio / np.max(np.abs(audio))  # Normalisasi amplitudo\n",
        "\n",
        "    # Remove silent parts\n",
        "    non_silent_indices = librosa.effects.split(audio, top_db=20)  # Menghapus bagian yang tidak bersuara\n",
        "    audio = np.concatenate([audio[start:end] for start, end in non_silent_indices])\n",
        "\n",
        "    # Extract MFCC features\n",
        "    mfccs = librosa.feature.mfcc(y=audio, sr=sr, n_mfcc=13)\n",
        "\n",
        "    return audio, mfccs"
      ],
      "metadata": {
        "id": "SSspvI8ude8o"
      },
      "execution_count": null,
      "outputs": []
    },
    {
      "cell_type": "code",
      "source": [
        "# Randomly choose wav files for each set\n",
        "trainFiles = []\n",
        "valFiles = []\n",
        "testFiles = []\n",
        "\n",
        "for index, singleBirdList in enumerate(allFilesList):\n",
        "    randFiles = sample(range(len(singleBirdList)), len(singleBirdList))\n",
        "    start = 0\n",
        "    end = trainSet[index]\n",
        "    trainFiles.append(randFiles[start:end])\n",
        "    start = end\n",
        "    end = start + valSet[index]\n",
        "    valFiles.append(randFiles[start:end])\n",
        "    start = end\n",
        "    end = start + testSet[index]\n",
        "    testFiles.append(randFiles[start:end])\n",
        "    print(\"Selected random files number:\\n train: \", len(trainFiles[index]), \"/\", trainSet[index],\n",
        "          \", val: \", len(valFiles[index]), \"/\", valSet[index],\n",
        "          \", test: \", len(testFiles[index]), \"/\", testSet[index])"
      ],
      "metadata": {
        "colab": {
          "base_uri": "https://localhost:8080/"
        },
        "id": "TiTmx9m0doZU",
        "outputId": "72028287-69ba-46e5-83f1-14c4b7b7103e"
      },
      "execution_count": null,
      "outputs": [
        {
          "output_type": "stream",
          "name": "stdout",
          "text": [
            "Selected random files number:\n",
            " train:  42 / 42 , val:  16 / 16 , test:  7 / 7\n",
            "Selected random files number:\n",
            " train:  42 / 42 , val:  16 / 16 , test:  7 / 7\n",
            "Selected random files number:\n",
            " train:  42 / 42 , val:  16 / 16 , test:  7 / 7\n",
            "Selected random files number:\n",
            " train:  42 / 42 , val:  16 / 16 , test:  7 / 7\n",
            "Selected random files number:\n",
            " train:  42 / 42 , val:  16 / 16 , test:  7 / 7\n",
            "Selected random files number:\n",
            " train:  42 / 42 , val:  16 / 16 , test:  7 / 7\n"
          ]
        }
      ]
    },
    {
      "cell_type": "code",
      "source": [
        "# Function to extract name\n",
        "def extractName(string):\n",
        "    return string.rsplit('/', 1)[1].replace(' ', '')[:-4]\n",
        "\n",
        "# Sort all the lists to make copying files easier\n",
        "sets = [trainFiles, valFiles, testFiles]\n",
        "for fileSet in sets:\n",
        "    for index, files in enumerate(fileSet):\n",
        "        fileSet[index].sort()\n",
        "\n",
        "# Change full names to short\n",
        "setNames = [\"train/\", \"val/\", \"test/\"]\n",
        "\n",
        "print(\"Long: \", birds, \"\\nShort: \", birdsShort)\n",
        "\n",
        "counter = 0\n",
        "\n",
        "# Loop untuk setiap jenis burung\n",
        "for birdNumber, bird in enumerate(birdsShort):  # Menggunakan birdsShort untuk iterasi\n",
        "    print(f\"Processing bird: {bird}\")  # Menampilkan burung yang sedang diproses\n",
        "    counter = 0\n",
        "\n",
        "    # Periksa untuk semua dataset: train, val, dan test sets\n",
        "    for setName, fileSet in zip(setNames, sets):\n",
        "        for setNumber in fileSet[birdNumber]:\n",
        "            for fileNumber, file in enumerate(allFilesList[birdNumber]):\n",
        "                if setNumber == fileNumber:  # Jika nomor file yang akan disalin sama dengan nomor file, maka salin\n",
        "                    # Proses audio menggunakan fungsi preprocess_audio\n",
        "                    audio, mfccs = preprocess_audio(file)  # Memanggil fungsi preprocessing dan mengassign nilai yang dikembalikan ke audio dan mfccs\n",
        "\n",
        "                    # **Create the directory if it doesn't exist before writing to it.**\n",
        "                    destination = os.path.join(destPath, setName, bird)\n",
        "                    if not os.path.exists(destination):\n",
        "                        os.makedirs(destination)\n",
        "\n",
        "                    # Menyimpan file audio yang telah diproses\n",
        "                    processed_audio_path = os.path.join(destPath, setName, bird, f\"{extractName(file)}_processed.wav\")\n",
        "                    sf.write(processed_audio_path, audio, 22050)  # Menyimpan audio yang telah dinormalisasi dan dihapus bagian sunyi\n",
        "\n",
        "                    # Menyimpan fitur MFCC\n",
        "                    mfccs_path = os.path.join(destPath, setName, bird, f\"{extractName(file)}_mfcc.npy\")\n",
        "                    np.save(mfccs_path, mfccs)  # Menyimpan fitur MFCC sebagai file .npy\n",
        "\n",
        "                    # Menyalin file terkait dari imPath\n",
        "                    for root, dirs, files in os.walk(imPath):\n",
        "                        for file2 in files:\n",
        "                            if extractName(file) in file2:\n",
        "                                counter += 1\n",
        "                                source = os.path.join(root, file2)\n",
        "\n",
        "                                shutil.copy2(source, destination)\n",
        "\n",
        "# Menampilkan jumlah file yang telah disalin\n",
        "print(\"Total files copied:\", counter)"
      ],
      "metadata": {
        "colab": {
          "base_uri": "https://localhost:8080/"
        },
        "id": "PUSULFfYdE6Y",
        "outputId": "be82c8f4-ca24-47a2-ecef-f81ad11652af"
      },
      "execution_count": null,
      "outputs": [
        {
          "output_type": "stream",
          "name": "stdout",
          "text": [
            "Long:  ['Pitta sordida', 'Dryocopus javensis', 'Caprimulgus macrurus', 'Pnoepyga pusilla', 'Anthipes solitaris', 'Buceros rhinoceros', 'Garulax bicolor'] \n",
            "Short:  ['0Pitta', '1Dryoc', '2Capri', '3Pnoep', '4Anthi', '5Bucer']\n",
            "Processing bird: 0Pitta\n",
            "Processing bird: 1Dryoc\n",
            "Processing bird: 2Capri\n"
          ]
        },
        {
          "output_type": "stream",
          "name": "stderr",
          "text": [
            "<ipython-input-4-21613874241c>:4: UserWarning: PySoundFile failed. Trying audioread instead.\n",
            "  audio, sr = librosa.load(file_path, sr=None)\n",
            "/usr/local/lib/python3.10/dist-packages/librosa/core/audio.py:184: FutureWarning: librosa.core.audio.__audioread_load\n",
            "\tDeprecated as of librosa version 0.10.0.\n",
            "\tIt will be removed in librosa version 1.0.\n",
            "  y, sr_native = __audioread_load(path, offset, duration, dtype)\n"
          ]
        },
        {
          "output_type": "stream",
          "name": "stdout",
          "text": [
            "Processing bird: 3Pnoep\n",
            "Processing bird: 4Anthi\n",
            "Processing bird: 5Bucer\n",
            "Total files copied: 513\n"
          ]
        }
      ]
    },
    {
      "cell_type": "markdown",
      "source": [
        "# MELSPEC"
      ],
      "metadata": {
        "id": "4NRCBlnWhJ4E"
      }
    },
    {
      "cell_type": "code",
      "source": [
        "import os\n",
        "import numpy as np\n",
        "import librosa\n",
        "import soundfile as sf\n",
        "import shutil\n",
        "from random import sample\n",
        "import matplotlib.pyplot as plt\n",
        "\n",
        "# Define number of files for all sets\n",
        "train = 0.65  # 65% of all sound should be in the train set\n",
        "val = 0.25    # 25% validation set\n",
        "test = 0.1   # 10% test set\n",
        "basePath = '/content/drive/MyDrive/DL/data/'\n",
        "imPath = '/content/drive/MyDrive/DL/mels'\n",
        "destPath = '/content/drive/MyDrive/DL/split_data/melspec'\n",
        "\n",
        "birds = []\n",
        "singleBirdList = []\n",
        "allFilesList = []\n",
        "\n",
        "# Get list of birds\n",
        "for root, dirs, files in os.walk(basePath):\n",
        "    if root == basePath:\n",
        "        birds = dirs\n",
        "print(birds)\n",
        "\n",
        "trainSet = []\n",
        "valSet = []\n",
        "testSet = []\n",
        "birdsShort = []  # list of short file names\n",
        "birdNumber = 0\n",
        "\n",
        "# Collect files for each bird\n",
        "for nr, bird in enumerate(birds):\n",
        "    for root, dirs, files in os.walk(basePath + bird):\n",
        "        for file in files:\n",
        "            if file.endswith(\".wav\"):\n",
        "                singleBirdList.append(os.path.join(root, file))\n",
        "    if len(singleBirdList) > 50:\n",
        "        birdsShort.append(str(birdNumber) + bird[:5])\n",
        "        birdNumber += 1\n",
        "        print(\"Found \", len(singleBirdList), ' wav files for ', bird)\n",
        "\n",
        "        # Calculate number of files for each set\n",
        "        total_files = min(len(singleBirdList), 65)  # Limit to 65 files\n",
        "        train_count = int(train * total_files)\n",
        "        val_count = int(val * total_files)\n",
        "        test_count = total_files - train_count - val_count  # Ensure all files are accounted for\n",
        "\n",
        "        trainSet.append(train_count)\n",
        "        valSet.append(val_count)\n",
        "        testSet.append(test_count)\n",
        "\n",
        "        print(\"Size of train: \", train_count, \", val: \", val_count, \", test: \", test_count)\n",
        "        allFilesList.append(singleBirdList[:total_files])  # Only keep up to 70 files\n",
        "    singleBirdList = []\n",
        "\n",
        "print(trainSet)\n",
        "print(valSet)\n",
        "print(testSet)"
      ],
      "metadata": {
        "id": "9UA7o1FohZua",
        "colab": {
          "base_uri": "https://localhost:8080/"
        },
        "outputId": "a9ac2190-dd49-49f7-cbfa-d35d0d20dafd"
      },
      "execution_count": null,
      "outputs": [
        {
          "output_type": "stream",
          "name": "stdout",
          "text": [
            "['Pitta sordida', 'Dryocopus javensis', 'Caprimulgus macrurus', 'Pnoepyga pusilla', 'Anthipes solitaris', 'Buceros rhinoceros', 'Garulax bicolor']\n",
            "Found  178  wav files for  Pitta sordida\n",
            "Size of train:  42 , val:  16 , test:  7\n",
            "Found  161  wav files for  Dryocopus javensis\n",
            "Size of train:  42 , val:  16 , test:  7\n",
            "Found  200  wav files for  Caprimulgus macrurus\n",
            "Size of train:  42 , val:  16 , test:  7\n",
            "Found  200  wav files for  Pnoepyga pusilla\n",
            "Size of train:  42 , val:  16 , test:  7\n",
            "Found  65  wav files for  Anthipes solitaris\n",
            "Size of train:  42 , val:  16 , test:  7\n",
            "Found  91  wav files for  Buceros rhinoceros\n",
            "Size of train:  42 , val:  16 , test:  7\n",
            "[42, 42, 42, 42, 42, 42]\n",
            "[16, 16, 16, 16, 16, 16]\n",
            "[7, 7, 7, 7, 7, 7]\n"
          ]
        }
      ]
    },
    {
      "cell_type": "code",
      "source": [
        "# Preprocessing function\n",
        "def preprocess_audio(file_path):\n",
        "    audio, sr = librosa.load(file_path, sr=None)\n",
        "    audio = audio / np.max(np.abs(audio))  # Normalize audio\n",
        "    non_silent_indices = librosa.effects.split(audio, top_db=20)\n",
        "    audio = np.concatenate([audio[start:end] for start, end in non_silent_indices])\n",
        "    return audio, sr\n",
        "\n",
        "# Function to create and save mel spectrogram\n",
        "def save_mel_spectrogram(audio, sr, file_path):\n",
        "    mel_spectrogram = librosa.feature.melspectrogram(y=audio, sr=sr, n_mels=128)\n",
        "    mel_spectrogram_db = librosa.power_to_db(mel_spectrogram, ref=np.max)\n",
        "\n",
        "    # Save as image\n",
        "    plt.figure(figsize=(10, 4))\n",
        "    librosa.display.specshow(mel_spectrogram_db, sr=sr, x_axis='time', y_axis='mel', fmax=8000)\n",
        "    plt.colorbar(format='%+2.0f dB')\n",
        "    plt.title('Mel Spectrogram')\n",
        "    plt.tight_layout()\n",
        "    plt.savefig(file_path)\n",
        "    plt.close()\n",
        "\n",
        "# Randomly choose wav files for each set\n",
        "trainFiles = []\n",
        "valFiles = []\n",
        "testFiles = []"
      ],
      "metadata": {
        "id": "tGMUOdL0hdV-"
      },
      "execution_count": null,
      "outputs": []
    },
    {
      "cell_type": "code",
      "source": [
        "for index, singleBirdList in enumerate(allFilesList):\n",
        "    randFiles = sample(range(len(singleBirdList)), len(singleBirdList))\n",
        "    start = 0\n",
        "    end = trainSet[index]\n",
        "    trainFiles.append(randFiles[start:end])\n",
        "    start = end\n",
        "    end = start + valSet[index]\n",
        "    valFiles.append(randFiles[start:end])\n",
        "    start = end\n",
        "    end = start + testSet[index]\n",
        "    testFiles.append(randFiles[start:end])\n",
        "    print(\"Selected random files number:\\n train: \", len(trainFiles[index]), \"/\", trainSet[index],\n",
        "          \"val: \", len(valFiles[index]), \"/\", valSet[index],\n",
        "           \"test: \" , len(testFiles[index]), \"/\", testSet[index])\n",
        "\n",
        "# Function to extract name\n",
        "def extractName(string):\n",
        "    return string.rsplit('/', 1)[1].replace(' ', '')[:-4]\n",
        "\n",
        "# Sort all the lists to make copying files easier\n",
        "sets = [trainFiles, valFiles, testFiles]\n",
        "for fileSet in sets:\n",
        "    for index, files in enumerate(fileSet):\n",
        "        fileSet[index].sort()\n",
        "\n",
        "# Change full names to short\n",
        "setNames = [\"train/\", \"val/\", \"test/\"]\n",
        "\n",
        "print(\"Long: \", birds, \"\\nShort: \", birdsShort)\n",
        "\n",
        "\n",
        "\n"
      ],
      "metadata": {
        "id": "Zb_gSX-XhLF2",
        "colab": {
          "base_uri": "https://localhost:8080/"
        },
        "outputId": "a636cd30-b583-45e5-b8a6-570792909445"
      },
      "execution_count": null,
      "outputs": [
        {
          "output_type": "stream",
          "name": "stdout",
          "text": [
            "Selected random files number:\n",
            " train:  42 / 42 val:  16 / 16 test:  7 / 7\n",
            "Selected random files number:\n",
            " train:  42 / 42 val:  16 / 16 test:  7 / 7\n",
            "Selected random files number:\n",
            " train:  42 / 42 val:  16 / 16 test:  7 / 7\n",
            "Selected random files number:\n",
            " train:  42 / 42 val:  16 / 16 test:  7 / 7\n",
            "Selected random files number:\n",
            " train:  42 / 42 val:  16 / 16 test:  7 / 7\n",
            "Selected random files number:\n",
            " train:  42 / 42 val:  16 / 16 test:  7 / 7\n",
            "Long:  ['Pitta sordida', 'Dryocopus javensis', 'Caprimulgus macrurus', 'Pnoepyga pusilla', 'Anthipes solitaris', 'Buceros rhinoceros', 'Garulax bicolor'] \n",
            "Short:  ['0Pitta', '1Dryoc', '2Capri', '3Pnoep', '4Anthi', '5Bucer']\n"
          ]
        }
      ]
    },
    {
      "cell_type": "code",
      "source": [
        "counter = 0\n",
        "# Loop untuk setiap jenis burung\n",
        "for birdNumber, bird in enumerate(birdsShort):  # Menggunakan birdsShort untuk iterasi\n",
        "    print(f\"Processing bird: {bird}\")  # Menampilkan burung yang sedang diproses\n",
        "    counter = 0\n",
        "\n",
        "    # Periksa untuk semua dataset: train, val, dan test sets\n",
        "    for setName, fileSet in zip(setNames, sets):\n",
        "        for setNumber in fileSet[birdNumber]:\n",
        "            for fileNumber, file in enumerate(allFilesList[birdNumber]):\n",
        "                if setNumber == fileNumber:  # Jika nomor file yang akan disalin sama dengan nomor file, maka salin\n",
        "                    # Proses audio menggunakan fungsi preprocess_audio\n",
        "                    audio, sr = preprocess_audio(file)  # Memanggil fungsi preprocessing dan menyimpan hasilnya\n",
        "\n",
        "                    # **Create the directory if it doesn't exist before writing to it.**\n",
        "                    destination = os.path.join(destPath, setName, bird)\n",
        "                    if not os.path.exists(destination):\n",
        "                        os.makedirs(destination)\n",
        "\n",
        "                    # Menyimpan mel spectrogram\n",
        "                    mel_spectrogram_path = os.path.join(destination, f\"{extractName(file)}_mel_spectrogram.png\")\n",
        "                    save_mel_spectrogram(audio, sr, mel_spectrogram_path)  # Menyimpan mel spectrogram sebagai gambar\n",
        "\n",
        "                    # Menyalin file terkait dari imPath\n",
        "                    for root, dirs, files in os.walk(imPath):\n",
        "                        for file2 in files:\n",
        "                            if extractName(file) in file2:\n",
        "                                counter += 1\n",
        "                                source = os.path.join(root, file2)\n",
        "\n",
        "                                shutil.copy2(source, destination)  # Menyalin file terkait ke direktori tujuan\n",
        "\n",
        "# Menampilkan jumlah file yang telah disalin\n",
        "print(\"Total files copied:\", counter)"
      ],
      "metadata": {
        "id": "kU9e3eGGiJoV",
        "colab": {
          "base_uri": "https://localhost:8080/"
        },
        "outputId": "03b47687-a76d-43e1-d281-c017fae1eafe"
      },
      "execution_count": null,
      "outputs": [
        {
          "output_type": "stream",
          "name": "stdout",
          "text": [
            "Processing bird: 0Pitta\n",
            "Processing bird: 1Dryoc\n",
            "Processing bird: 2Capri\n",
            "Processing bird: 3Pnoep\n",
            "Processing bird: 4Anthi\n",
            "Processing bird: 5Bucer\n",
            "Total files copied: 633\n"
          ]
        }
      ]
    }
  ]
}